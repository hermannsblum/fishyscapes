{
 "cells": [
  {
   "cell_type": "code",
   "execution_count": null,
   "metadata": {},
   "outputs": [],
   "source": [
    "import numpy as np\n",
    "from tqdm import tqdm\n",
    "from PIL import Image\n",
    "import os.path as osp\n",
    "\n",
    "fs = np.load('data.npz')\n",
    "export_dir = \"./fslaf\"\n",
    "\n",
    "\n",
    "for idx, (image, mask) in tqdm(enumerate(zip(fs[\"arr_0\"], fs[\"arr_1\"]))):\n",
    "    image = Image.fromarray(image)\n",
    "    image.save(osp.join(export_dir, \"image\" ,f\"{idx}.png\"))\n",
    "    mask = Image.fromarray(mask)\n",
    "    mask.save(osp.join(export_dir, \"mask\", f\"{idx}.png\"))\n",
    "    \n",
    "\n",
    "\n"
   ]
  }
 ],
 "metadata": {
  "kernelspec": {
   "display_name": "Python 3.8.13 ('sml')",
   "language": "python",
   "name": "python3"
  },
  "language_info": {
   "name": "python",
   "version": "3.8.13"
  },
  "orig_nbformat": 4,
  "vscode": {
   "interpreter": {
    "hash": "cd273f9ae86e35935c7d0f0ca1faacfb114810cc07dffc1b665ce46e39923136"
   }
  }
 },
 "nbformat": 4,
 "nbformat_minor": 2
}
